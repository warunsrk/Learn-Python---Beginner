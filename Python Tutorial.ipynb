{
 "cells": [
  {
   "cell_type": "code",
   "execution_count": 8,
   "id": "6f7de832",
   "metadata": {},
   "outputs": [
    {
     "name": "stdout",
     "output_type": "stream",
     "text": [
      "Hello World\n"
     ]
    }
   ],
   "source": [
    "# print() is used to display the output.\n",
    "print(\"Hello World\")"
   ]
  },
  {
   "cell_type": "code",
   "execution_count": 2,
   "id": "c300fa90",
   "metadata": {},
   "outputs": [
    {
     "name": "stdout",
     "output_type": "stream",
     "text": [
      "30\n",
      "20\n"
     ]
    }
   ],
   "source": [
    "var1 = 30\n",
    "print(var1)\n",
    "var2 = 20\n",
    "print(var2)"
   ]
  },
  {
   "cell_type": "code",
   "execution_count": 9,
   "id": "7d7e8f6a",
   "metadata": {},
   "outputs": [
    {
     "name": "stdout",
     "output_type": "stream",
     "text": [
      "50\n",
      "10\n",
      "600\n",
      "1.5\n",
      "10\n"
     ]
    }
   ],
   "source": [
    "Addition = var1 + var2\n",
    "Substraction = var1 - var2\n",
    "Multipication = var1 * var2\n",
    "Divide = var1 / var2\n",
    "Modulous = var1 % var2\n",
    "print(Addition) \n",
    "print(Substraction)\n",
    "print(Multipication)\n",
    "print(Divide)\n",
    "print(Modulous)"
   ]
  },
  {
   "cell_type": "code",
   "execution_count": 12,
   "id": "75bd0e89",
   "metadata": {},
   "outputs": [
    {
     "data": {
      "text/plain": [
       "float"
      ]
     },
     "execution_count": 12,
     "metadata": {},
     "output_type": "execute_result"
    }
   ],
   "source": [
    "# type() is used declare the data type of the variable.\n",
    "type(Divide)"
   ]
  },
  {
   "cell_type": "code",
   "execution_count": 20,
   "id": "20b2cc1f",
   "metadata": {},
   "outputs": [
    {
     "name": "stdout",
     "output_type": "stream",
     "text": [
      "True\n",
      "False\n",
      "True\n",
      "True\n",
      "True\n",
      "True\n",
      "True\n"
     ]
    }
   ],
   "source": [
    "# Comparison Operator => To check equality of values\n",
    "'''\n",
    "== means \"equal to\"\n",
    "!= means \"not equal to\"\n",
    "< means \"less than\"\n",
    "> means \"greater than\"\n",
    "<= means \"less than equal to\"\n",
    "'''\n",
    "x = 10\n",
    "y = 20\n",
    "z = 10\n",
    "print(x == z)                                \n",
    "print(x == y) \n",
    "print(x != y)                                \n",
    "print(x < y)                                 \n",
    "print(y > z)                                 \n",
    "print(x <= y)                                \n",
    "print(y >= z) # >= means \"greater than equal to\""
   ]
  },
  {
   "cell_type": "code",
   "execution_count": 25,
   "id": "f70d4ff3",
   "metadata": {},
   "outputs": [
    {
     "name": "stdout",
     "output_type": "stream",
     "text": [
      "True\n",
      "True\n",
      "False\n"
     ]
    }
   ],
   "source": [
    "'''\n",
    "Logical Operator\n",
    "\"and\" means \"both logic is true\"\n",
    "\"or\" means \"any one logic is true\"\n",
    "\"not\" means \"opposite\" \n",
    "'''\n",
    "\n",
    "x = 10\n",
    "y = 15\n",
    "z = 20\n",
    "print(x < y and x < z)\n",
    "print(x < y or x > y)\n",
    "print(not(x < y))"
   ]
  },
  {
   "cell_type": "code",
   "execution_count": 28,
   "id": "c6c0c58a",
   "metadata": {},
   "outputs": [
    {
     "name": "stdout",
     "output_type": "stream",
     "text": [
      "x is not greater than y\n",
      "x is amaller than y\n"
     ]
    }
   ],
   "source": [
    "# Conditional Statement --> if\n",
    "\n",
    "x = 5\n",
    "y = 4\n",
    "\n",
    "if x > 5:\n",
    "    print(\"x is greater than y\")\n",
    "else:\n",
    "    print(\"x is not greater than y\")"
   ]
  },
  {
   "cell_type": "code",
   "execution_count": 29,
   "id": "92b24ab3",
   "metadata": {},
   "outputs": [
    {
     "name": "stdout",
     "output_type": "stream",
     "text": [
      "x is less than y and z\n"
     ]
    }
   ],
   "source": [
    "# Multiple Conditional Statement --> if... elif... else\n",
    "x = 5\n",
    "y = 6\n",
    "z = 7\n",
    "if x > y:\n",
    "    print(\"y is greater than z\")\n",
    "elif x > z:\n",
    "    print(\"y is less than z\")\n",
    "else:\n",
    "    print(\"x is less than y and z\")"
   ]
  },
  {
   "cell_type": "code",
   "execution_count": 31,
   "id": "4d6d84bf",
   "metadata": {},
   "outputs": [
    {
     "name": "stdout",
     "output_type": "stream",
     "text": [
      "Enter your name: Warun Kumar\n",
      "Warun Kumar\n"
     ]
    }
   ],
   "source": [
    "# Taking input from the User. Note: By default user input is always a string data type. \n",
    "name = input(\"Enter your name: \")\n",
    "print(name)"
   ]
  },
  {
   "cell_type": "code",
   "execution_count": 32,
   "id": "fced6103",
   "metadata": {},
   "outputs": [
    {
     "name": "stdout",
     "output_type": "stream",
     "text": [
      "Your name is Warun Kumar\n"
     ]
    }
   ],
   "source": [
    "print(\"Your name is \"+name)"
   ]
  },
  {
   "cell_type": "code",
   "execution_count": 34,
   "id": "0d1e738c",
   "metadata": {},
   "outputs": [
    {
     "data": {
      "text/plain": [
       "str"
      ]
     },
     "execution_count": 34,
     "metadata": {},
     "output_type": "execute_result"
    }
   ],
   "source": [
    "# Type Casting --> Convert the string data type into integer data type\n",
    "type(name)"
   ]
  },
  {
   "cell_type": "code",
   "execution_count": 40,
   "id": "484ffc7b",
   "metadata": {},
   "outputs": [
    {
     "name": "stdout",
     "output_type": "stream",
     "text": [
      "Enter your Birth Year 2010\n",
      "You can not Vote\n"
     ]
    }
   ],
   "source": [
    "DOB = input(\"Enter your Birth Year \")\n",
    "DOB_1 = int(DOB)\n",
    "age = 2024 - DOB_1\n",
    "if age >= 18:\n",
    "    print(\"You can Vote\")\n",
    "else:\n",
    "    print(\"You can not Vote\")"
   ]
  },
  {
   "cell_type": "code",
   "execution_count": null,
   "id": "63d51b98",
   "metadata": {},
   "outputs": [],
   "source": [
    "# Data Structure\n",
    "'''\n",
    "Array --> Collection of elements.\n",
    "Major type of Arrays:\n",
    "1. List\n",
    "2. Tuple\n",
    "3. Set\n",
    "4. Piction\n",
    "\n",
    "Important term in Array\n",
    "Ordered --> Ascending or Descending ordr\n",
    "Unordered -- No order\n",
    "Indexed --> The index indicates the position of the element within the array (starting from 1)\n",
    "Unindexed -->\n",
    "Mutable --> All\n",
    "Immutable --> Does not allow any change in the allocated memory.\n",
    "'''"
   ]
  },
  {
   "cell_type": "code",
   "execution_count": 1,
   "id": "eebcd601",
   "metadata": {},
   "outputs": [
    {
     "name": "stdout",
     "output_type": "stream",
     "text": [
      "[1, 2, 3, 'A', 'B', 'C', 'XYZ', True]\n"
     ]
    }
   ],
   "source": [
    "# List - It is Ordered, Indexed and Mutable\n",
    "list_1 = [1,2,3,\"A\",\"B\",\"C\",\"XYZ\",True]\n",
    "print(list_1)"
   ]
  },
  {
   "cell_type": "code",
   "execution_count": 4,
   "id": "778a17df",
   "metadata": {},
   "outputs": [
    {
     "name": "stdout",
     "output_type": "stream",
     "text": [
      "['Apple', 'Orange', 'Banana', 'Guava', 'Strawberry']\n"
     ]
    }
   ],
   "source": [
    "Fruit = [\"Apple\",\"Orange\",\"Banana\",\"Guava\",\"Strawberry\"]\n",
    "print(Fruit)"
   ]
  },
  {
   "cell_type": "code",
   "execution_count": 59,
   "id": "793d6136",
   "metadata": {},
   "outputs": [
    {
     "name": "stdout",
     "output_type": "stream",
     "text": [
      "Orange\n"
     ]
    }
   ],
   "source": [
    "# To print a value from the list by index.\n",
    "print(Fruit[1])"
   ]
  },
  {
   "cell_type": "code",
   "execution_count": 8,
   "id": "4c90b852",
   "metadata": {},
   "outputs": [
    {
     "name": "stdout",
     "output_type": "stream",
     "text": [
      "['Apple', 'Orange']\n",
      "['Apple', 'Orange', 'Banana']\n",
      "['Orange', 'Banana', 'Guava', 'Strawberry']\n"
     ]
    }
   ],
   "source": [
    "# To access a range of element in the array.\n",
    "print(Fruit[0:2]) # End index will print the element -1 {Example: [0:4] will show 0,1,2,3}\n",
    "print(Fruit[:3])\n",
    "print(Fruit[1:])"
   ]
  },
  {
   "cell_type": "code",
   "execution_count": 9,
   "id": "dba00432",
   "metadata": {},
   "outputs": [
    {
     "name": "stdout",
     "output_type": "stream",
     "text": [
      "['Apple', 'Orange', 'Grapes', 'Guava', 'Strawberry']\n"
     ]
    }
   ],
   "source": [
    "# Replace an element from the list of specific index.\n",
    "Fruit[2] = \"Grapes\"\n",
    "print(Fruit)"
   ]
  },
  {
   "cell_type": "code",
   "execution_count": 10,
   "id": "e8f1b9e2",
   "metadata": {},
   "outputs": [
    {
     "name": "stdout",
     "output_type": "stream",
     "text": [
      "['Apple', 'Orange', 'Grapes', 'Guava', 'Strawberry', 'Dragon Fruit']\n"
     ]
    }
   ],
   "source": [
    "# Append (Add) an element in the List\n",
    "Fruit.append(\"Dragon Fruit\")\n",
    "print(Fruit)"
   ]
  },
  {
   "cell_type": "code",
   "execution_count": 18,
   "id": "8e281c0c",
   "metadata": {},
   "outputs": [
    {
     "name": "stdout",
     "output_type": "stream",
     "text": [
      "['Apple', 'Orange', 'Banana', 'Banana', 'Grapes', 'Guava', 'Strawberry', 'Dragon Fruit']\n"
     ]
    }
   ],
   "source": [
    "# Insert an element in the list at a specific index.\n",
    "Fruit.insert(2,\"Banana\")\n",
    "print(Fruit)"
   ]
  },
  {
   "cell_type": "code",
   "execution_count": 17,
   "id": "b77a43e8",
   "metadata": {},
   "outputs": [
    {
     "name": "stdout",
     "output_type": "stream",
     "text": [
      "['Apple', 'Orange', 'Banana', 'Grapes', 'Guava', 'Strawberry', 'Dragon Fruit']\n"
     ]
    }
   ],
   "source": [
    "Fruit.remove(\"Grapes\")\n",
    "print(Fruit)"
   ]
  },
  {
   "cell_type": "code",
   "execution_count": 20,
   "id": "c8891490",
   "metadata": {},
   "outputs": [
    {
     "name": "stdout",
     "output_type": "stream",
     "text": [
      "['Apple', 'Orange', 'Banana', 'Grapes', 'Guava', 'Strawberry', 'Dragon Fruit']\n"
     ]
    }
   ],
   "source": [
    "del Fruit[2]\n",
    "print(Fruit)"
   ]
  },
  {
   "cell_type": "code",
   "execution_count": 21,
   "id": "9c3390dd",
   "metadata": {},
   "outputs": [
    {
     "name": "stdout",
     "output_type": "stream",
     "text": [
      "(1, 2, 3, 'A', 'B', 'C', 'XYZ', True)\n"
     ]
    }
   ],
   "source": [
    "#Tuple --> Ordered, Indexed & Immutable\n",
    "Tuple_1 = (1,2,3,\"A\",\"B\",\"C\",\"XYZ\",True)\n",
    "print(Tuple_1)"
   ]
  },
  {
   "cell_type": "code",
   "execution_count": 22,
   "id": "899a5057",
   "metadata": {},
   "outputs": [
    {
     "name": "stdout",
     "output_type": "stream",
     "text": [
      "('Cricket', 'Football', 'Badminton')\n"
     ]
    }
   ],
   "source": [
    "Game = (\"Cricket\",\"Football\",\"Badminton\")\n",
    "print(Game)"
   ]
  },
  {
   "cell_type": "code",
   "execution_count": 25,
   "id": "c0089bb1",
   "metadata": {},
   "outputs": [
    {
     "name": "stdout",
     "output_type": "stream",
     "text": [
      "['Cricket', 'Football', 'Badminton']\n"
     ]
    }
   ],
   "source": [
    "Temp_List_Game = list(Game)\n",
    "print(Temp_List_Game)"
   ]
  },
  {
   "cell_type": "code",
   "execution_count": 26,
   "id": "0abe74a3",
   "metadata": {},
   "outputs": [
    {
     "name": "stdout",
     "output_type": "stream",
     "text": [
      "{'XYZ', 1, 2, 3, 'A', 'C', 'B'}\n"
     ]
    }
   ],
   "source": [
    "# Set --> Unordered, Unindexed, Immutable and No duplicate element.\n",
    "Set1 = {1,2,3,\"A\",\"B\",\"C\",\"XYZ\",True}\n",
    "print(Set1)"
   ]
  },
  {
   "cell_type": "code",
   "execution_count": 28,
   "id": "364df0f5",
   "metadata": {},
   "outputs": [
    {
     "name": "stdout",
     "output_type": "stream",
     "text": [
      "{'Banana', 'Guava', 'Orange', 'Grapes', 'Apple'}\n"
     ]
    }
   ],
   "source": [
    "setFruit = {'Apple', 'Orange', 'Banana', 'Grapes', 'Guava',\"Apple\"} #No duplicate value stored\n",
    "print(setFruit)"
   ]
  },
  {
   "cell_type": "code",
   "execution_count": 29,
   "id": "c89d802c",
   "metadata": {},
   "outputs": [
    {
     "name": "stdout",
     "output_type": "stream",
     "text": [
      "['Banana', 'Guava', 'Orange', 'Grapes', 'Apple']\n"
     ]
    }
   ],
   "source": [
    "# Cast set into List\n",
    "templistFruit = list(setFruit)\n",
    "print(templistFruit)"
   ]
  },
  {
   "cell_type": "code",
   "execution_count": 31,
   "id": "8283a052",
   "metadata": {},
   "outputs": [
    {
     "name": "stdout",
     "output_type": "stream",
     "text": [
      "['Banana', 'Guava', 'Orange', 'Grapes', 'Apple', 'Dragon Fruit']\n"
     ]
    }
   ],
   "source": [
    "# Adding an element to the list.\n",
    "templistFruit.append(\"Dragon Fruit\")\n",
    "print(templistFruit)"
   ]
  },
  {
   "cell_type": "code",
   "execution_count": 32,
   "id": "41d14cef",
   "metadata": {},
   "outputs": [
    {
     "name": "stdout",
     "output_type": "stream",
     "text": [
      "{'Guava', 'Banana', 'Orange', 'Grapes', 'Dragon Fruit', 'Apple'}\n"
     ]
    }
   ],
   "source": [
    "# Cast list into Set\n",
    "setFruit = set(templistFruit)\n",
    "print(setFruit)"
   ]
  },
  {
   "cell_type": "code",
   "execution_count": 33,
   "id": "df8f9565",
   "metadata": {},
   "outputs": [
    {
     "name": "stdout",
     "output_type": "stream",
     "text": [
      "{'Guava', 'Banana', 'Mango', 'Orange', 'Grapes', 'Dragon Fruit', 'Apple'}\n"
     ]
    }
   ],
   "source": [
    "# Adding an element to the Set.\n",
    "setFruit.add(\"Mango\")\n",
    "print(setFruit)"
   ]
  },
  {
   "cell_type": "code",
   "execution_count": 34,
   "id": "2976a9ab",
   "metadata": {},
   "outputs": [
    {
     "name": "stdout",
     "output_type": "stream",
     "text": [
      "{'Guava', 'Banana', 'Mango', 'Grapes', 'Dragon Fruit', 'Apple'}\n"
     ]
    }
   ],
   "source": [
    "# Removing an element from the set.\n",
    "setFruit.remove(\"Orange\")\n",
    "print(setFruit)"
   ]
  },
  {
   "cell_type": "code",
   "execution_count": 36,
   "id": "c6b8697f",
   "metadata": {},
   "outputs": [
    {
     "name": "stdout",
     "output_type": "stream",
     "text": [
      "{'ID': 100, 'Name': 'Warun', 'Address': 'Noida', 'Department': 'HR'}\n"
     ]
    }
   ],
   "source": [
    "# Dictionary --> Mutable, Ordered (Unordered only for Python v 3.6 and below), No duplicate element\n",
    "dict1 = {\n",
    "    \"ID\":100,\n",
    "    \"Name\":\"Warun\",\n",
    "    \"Address\":\"Noida\",\n",
    "    \"Department\":\"HR\"\n",
    "}\n",
    "print(dict1)"
   ]
  },
  {
   "cell_type": "code",
   "execution_count": 39,
   "id": "80592c3c",
   "metadata": {},
   "outputs": [
    {
     "name": "stdout",
     "output_type": "stream",
     "text": [
      "100\n",
      "Warun\n"
     ]
    }
   ],
   "source": [
    "# Access a value from the Dictionary.\n",
    "print(dict1[\"ID\"])\n",
    "print(dict1[\"Name\"])"
   ]
  },
  {
   "cell_type": "code",
   "execution_count": 40,
   "id": "222d8209",
   "metadata": {},
   "outputs": [
    {
     "name": "stdout",
     "output_type": "stream",
     "text": [
      "Noida\n"
     ]
    }
   ],
   "source": [
    "# Another way to access a value from the Dictionary using get().\n",
    "print(dict1.get(\"Address\"))"
   ]
  },
  {
   "cell_type": "code",
   "execution_count": 41,
   "id": "e76b662d",
   "metadata": {},
   "outputs": [
    {
     "name": "stdout",
     "output_type": "stream",
     "text": [
      "dict_keys(['ID', 'Name', 'Address', 'Department'])\n"
     ]
    }
   ],
   "source": [
    "# Access the keys from the Dictionary.\n",
    "print(dict1.keys())"
   ]
  },
  {
   "cell_type": "code",
   "execution_count": 42,
   "id": "5001b23b",
   "metadata": {},
   "outputs": [
    {
     "name": "stdout",
     "output_type": "stream",
     "text": [
      "dict_values([100, 'Warun', 'Noida', 'HR'])\n"
     ]
    }
   ],
   "source": [
    "# Access the values from the Dictionary.\n",
    "print(dict1.values())"
   ]
  },
  {
   "cell_type": "code",
   "execution_count": 43,
   "id": "95683713",
   "metadata": {},
   "outputs": [
    {
     "name": "stdout",
     "output_type": "stream",
     "text": [
      "{'ID': 100, 'Name': 'Warun', 'Address': 'Noida', 'Department': 'US Staffing'}\n"
     ]
    }
   ],
   "source": [
    "# To change the value of a key in the Dictionary.\n",
    "dict1[\"Department\"] = \"US Staffing\"\n",
    "print(dict1)"
   ]
  },
  {
   "cell_type": "code",
   "execution_count": 50,
   "id": "ccc4b049",
   "metadata": {},
   "outputs": [
    {
     "name": "stdout",
     "output_type": "stream",
     "text": [
      "{'ID': 100, 'Name': 'Warun', 'Address': 'Noida', 'Department': 'US Staffing', 'Manager': 'Deepjyoti'}\n"
     ]
    }
   ],
   "source": [
    "# To add a new key pair value into the Dictionary.\n",
    "dict1[\"Manager\"] = \"Deepjyoti\"\n",
    "print(dict1)"
   ]
  },
  {
   "cell_type": "code",
   "execution_count": 46,
   "id": "a60dff6b",
   "metadata": {},
   "outputs": [
    {
     "name": "stdout",
     "output_type": "stream",
     "text": [
      "{'ID': 100, 'Name': 'Warun', 'Address': 'Noida', 'Department': 'US Staffing'}\n"
     ]
    }
   ],
   "source": [
    "# To remove the key value pair from the Dictionary\n",
    "dict1.pop(\"Manager\")\n",
    "print(dict1)"
   ]
  },
  {
   "cell_type": "code",
   "execution_count": 52,
   "id": "2482c484",
   "metadata": {},
   "outputs": [],
   "source": [
    "# Another way to delete the key pair value from the Dictionary\n",
    "del dict1[\"Manager\"]"
   ]
  },
  {
   "cell_type": "code",
   "execution_count": 53,
   "id": "08b17540",
   "metadata": {},
   "outputs": [
    {
     "name": "stdout",
     "output_type": "stream",
     "text": [
      "{'ID': 100, 'Name': 'Warun', 'Address': 'Noida', 'Department': 'US Staffing'}\n"
     ]
    }
   ],
   "source": [
    "print(dict1)"
   ]
  },
  {
   "cell_type": "code",
   "execution_count": 7,
   "id": "3599109e",
   "metadata": {},
   "outputs": [
    {
     "name": "stdout",
     "output_type": "stream",
     "text": [
      "Welcome\n",
      "W\n"
     ]
    }
   ],
   "source": [
    "# 03-02-2024\n",
    "# String Data Type\n",
    "varx = \"Welcome to Python Programming\"\n",
    "type(varx)\n",
    "print(varx[0:7])\n",
    "print(varx[0])"
   ]
  },
  {
   "cell_type": "code",
   "execution_count": 6,
   "id": "50ed8f5f",
   "metadata": {},
   "outputs": [
    {
     "name": "stdout",
     "output_type": "stream",
     "text": [
      "False\n"
     ]
    }
   ],
   "source": [
    "# To find a straing value in a large string value.\n",
    "print(\"Python1\" in varx)"
   ]
  },
  {
   "cell_type": "code",
   "execution_count": 9,
   "id": "c27e401e",
   "metadata": {},
   "outputs": [
    {
     "name": "stdout",
     "output_type": "stream",
     "text": [
      "3\n"
     ]
    }
   ],
   "source": [
    "var2 = \"One\"\n",
    "print(len(var2))"
   ]
  },
  {
   "cell_type": "code",
   "execution_count": 14,
   "id": "f68cdf64",
   "metadata": {},
   "outputs": [
    {
     "name": "stdout",
     "output_type": "stream",
     "text": [
      "straw\n"
     ]
    }
   ],
   "source": [
    "newlist = [\"apple\",\"orange\",\"kiwi\",\"banana\",\"strawberry\"]\n",
    "print(newlist[4][0:5])\n"
   ]
  },
  {
   "cell_type": "code",
   "execution_count": 42,
   "id": "3c60baf2",
   "metadata": {},
   "outputs": [
    {
     "name": "stdout",
     "output_type": "stream",
     "text": [
      "5\n",
      "KUMAR\n",
      "kumar\n",
      "Warun\n",
      "Kumar is replaced to Kumar\n"
     ]
    }
   ],
   "source": [
    "# String Functions\n",
    "x = \"waRun\"\n",
    "y = \"   Warun\"\n",
    "x = \"Kumar\"\n",
    "\n",
    "#len()\n",
    "print(len(x))\n",
    "\n",
    "# upper()\n",
    "print(x.upper())\n",
    "\n",
    "# lower()\n",
    "print(x.lower())\n",
    "\n",
    "# strip()\n",
    "\n",
    "print(y.strip())\n",
    "\n",
    "# replace()\n",
    "print(x + \" is replaced to \" + x.replace(\"R\",\"r\"))"
   ]
  },
  {
   "cell_type": "code",
   "execution_count": 41,
   "id": "9d756b7e",
   "metadata": {},
   "outputs": [
    {
     "name": "stdout",
     "output_type": "stream",
     "text": [
      "Warun Kumar\n"
     ]
    }
   ],
   "source": [
    "# concatenate\n",
    "x = \"Warun\"\n",
    "y = \"Kumar\"\n",
    "\n",
    "z = x + \" \" + y\n",
    "print(z)"
   ]
  },
  {
   "cell_type": "code",
   "execution_count": 43,
   "id": "95f4ae8a",
   "metadata": {},
   "outputs": [
    {
     "name": "stdout",
     "output_type": "stream",
     "text": [
      "['Warun', 'Kumar']\n",
      "['Warun', 'Kumar']\n",
      "Kumar\n"
     ]
    }
   ],
   "source": [
    "# split()\n",
    "x = \"Warun Kumar\"\n",
    "temp = x.split(\" \")\n",
    "print(temp)\n",
    "print(x.split(\" \"))\n",
    "print(temp[1])"
   ]
  },
  {
   "cell_type": "code",
   "execution_count": 46,
   "id": "0d5e5f84",
   "metadata": {},
   "outputs": [
    {
     "name": "stdout",
     "output_type": "stream",
     "text": [
      "Welcome to \"India\"\n"
     ]
    }
   ],
   "source": [
    "var = \"Welcome to \\\"India\\\"\"    # \\ --> is an escape character.\n",
    "print(var)"
   ]
  },
  {
   "cell_type": "code",
   "execution_count": 47,
   "id": "9f251d05",
   "metadata": {},
   "outputs": [
    {
     "name": "stdout",
     "output_type": "stream",
     "text": [
      "1\n",
      "2\n",
      "3\n",
      "4\n"
     ]
    }
   ],
   "source": [
    "# Looping Statement\n",
    "for i in range(1,5):\n",
    "\tprint(i)"
   ]
  },
  {
   "cell_type": "code",
   "execution_count": 49,
   "id": "77182830",
   "metadata": {},
   "outputs": [
    {
     "name": "stdout",
     "output_type": "stream",
     "text": [
      "1\n",
      "3\n",
      "5\n",
      "7\n",
      "9\n"
     ]
    }
   ],
   "source": [
    "for i in range(1,10,2):\n",
    "\tprint(i)"
   ]
  },
  {
   "cell_type": "code",
   "execution_count": 58,
   "id": "b6f00d6b",
   "metadata": {},
   "outputs": [
    {
     "name": "stdout",
     "output_type": "stream",
     "text": [
      "2\n",
      "4\n",
      "6\n",
      "8\n",
      "10\n",
      "12\n",
      "14\n",
      "16\n",
      "18\n"
     ]
    }
   ],
   "source": [
    "for i in range(1,20):\n",
    "    if(i%2==0):\n",
    "    \tprint(i)"
   ]
  },
  {
   "cell_type": "code",
   "execution_count": 60,
   "id": "de2a48c3",
   "metadata": {},
   "outputs": [
    {
     "name": "stdout",
     "output_type": "stream",
     "text": [
      "APPLE\n",
      "ORANGE\n",
      "KIWI\n",
      "BANANA\n",
      "STRAWBERRY\n"
     ]
    }
   ],
   "source": [
    "list = [\"apple\",\"orange\",\"kiwi\",\"banana\",\"strawberry\"]\n",
    "for i in list:\n",
    "    print(i.upper())"
   ]
  },
  {
   "cell_type": "code",
   "execution_count": 63,
   "id": "92d7e8b6",
   "metadata": {},
   "outputs": [
    {
     "name": "stdout",
     "output_type": "stream",
     "text": [
      "APPLE\n",
      "ORANGE\n",
      "KIWI\n",
      "BANANA\n",
      "STRAWBERRY\n"
     ]
    }
   ],
   "source": [
    "for i in range(0,len(list)):\n",
    "\tprint(list[i].upper())"
   ]
  },
  {
   "cell_type": "code",
   "execution_count": 67,
   "id": "f388ca6a",
   "metadata": {},
   "outputs": [
    {
     "name": "stdout",
     "output_type": "stream",
     "text": [
      "app\n",
      "ora\n",
      "kiw\n",
      "ban\n",
      "str\n"
     ]
    }
   ],
   "source": [
    "# Write a for loop to print the first 3 character of each element.\n",
    "list = [\"apple\",\"orange\",\"kiwi\",\"banana\",\"strawberry\"]\n",
    "for i in list:\n",
    "    print(i[0:3])"
   ]
  },
  {
   "cell_type": "code",
   "execution_count": 69,
   "id": "c33be71f",
   "metadata": {},
   "outputs": [
    {
     "name": "stdout",
     "output_type": "stream",
     "text": [
      "apple\n",
      "orange\n",
      "kiwi\n",
      "banana\n",
      "strawberry\n"
     ]
    }
   ],
   "source": [
    "tuple = (\"apple\",\"orange\",\"kiwi\",\"banana\",\"strawberry\")\n",
    "for i in tuple:\n",
    "\tprint(i)"
   ]
  },
  {
   "cell_type": "code",
   "execution_count": 71,
   "id": "cbeebc38",
   "metadata": {},
   "outputs": [
    {
     "name": "stdout",
     "output_type": "stream",
     "text": [
      "apple\n",
      "orange\n",
      "strawberry\n",
      "kiwi\n",
      "banana\n"
     ]
    }
   ],
   "source": [
    "set = {\"apple\",\"orange\",\"kiwi\",\"banana\",\"strawberry\"}\n",
    "for i in set:\n",
    "    print(i)"
   ]
  },
  {
   "cell_type": "code",
   "execution_count": 74,
   "id": "6902978b",
   "metadata": {},
   "outputs": [
    {
     "name": "stdout",
     "output_type": "stream",
     "text": [
      "ID   100\n",
      "Name   Warun\n",
      "Location   Noida\n",
      "Department   US Staffing\n"
     ]
    }
   ],
   "source": [
    "dict = {\n",
    "    \"ID\" : 100,\n",
    "    \"Name\" : \"Warun\",\n",
    "    \"Location\" : \"Noida\",\n",
    "    \"Department\" : \"US Staffing\"\n",
    "}\n",
    "for x in dict:\n",
    "    print(x,\" \",dict[x])"
   ]
  },
  {
   "cell_type": "code",
   "execution_count": 75,
   "id": "86552b42",
   "metadata": {},
   "outputs": [
    {
     "name": "stdout",
     "output_type": "stream",
     "text": [
      "dict_keys(['ID', 'Name', 'Location', 'Department'])\n"
     ]
    }
   ],
   "source": [
    "print(dict.keys())"
   ]
  },
  {
   "cell_type": "code",
   "execution_count": 76,
   "id": "6ec74c55",
   "metadata": {},
   "outputs": [
    {
     "name": "stdout",
     "output_type": "stream",
     "text": [
      "dict_values([100, 'Warun', 'Noida', 'US Staffing'])\n"
     ]
    }
   ],
   "source": [
    "print(dict.values())"
   ]
  },
  {
   "cell_type": "code",
   "execution_count": 78,
   "id": "c2b67eac",
   "metadata": {},
   "outputs": [
    {
     "name": "stdout",
     "output_type": "stream",
     "text": [
      "W\n",
      "a\n",
      "r\n",
      "u\n",
      "n\n"
     ]
    }
   ],
   "source": [
    "var = \"Warun\"\n",
    "for x in var:\n",
    "    print(x)"
   ]
  },
  {
   "cell_type": "code",
   "execution_count": 81,
   "id": "eed4b61f",
   "metadata": {},
   "outputs": [
    {
     "name": "stdout",
     "output_type": "stream",
     "text": [
      "W\n",
      "a\n",
      "r\n",
      "u\n",
      "n\n"
     ]
    }
   ],
   "source": [
    "for x in range(0,len(var)):\n",
    "\tprint(var[x])"
   ]
  },
  {
   "cell_type": "code",
   "execution_count": 83,
   "id": "4ac3c406",
   "metadata": {},
   "outputs": [
    {
     "name": "stdout",
     "output_type": "stream",
     "text": [
      "[{'Name': 'Johnny', 'Age': 32, 'salary': 26000, 'Company': 'TCS'}, {'Name': 'Ron', 'Age': 28, 'salary': 20000, 'Company': 'Infosys'}, {'Name': 'John', 'Age': 25, 'salary': 46000, 'Company': 'Accenture'}, {'Name': 'Maria', 'Age': 30, 'salary': 30000, 'Company': 'TCS'}, {'Name': 'Regina', 'Age': 19, 'salary': 10000, 'Company': 'Wipro'}]\n"
     ]
    }
   ],
   "source": [
    "#Exercise:\n",
    "Emp1 = {\"Name\": \"Johnny\", \"Age\": 32, \"salary\":26000,\"Company\":\"TCS\"}\n",
    "Emp2 = {\"Name\": \"Ron\", \"Age\": 28, \"salary\":20000,\"Company\":\"Infosys\"}\n",
    "Emp3 = {\"Name\": \"John\", \"Age\": 25, \"salary\":46000,\"Company\":\"TCS\"}\n",
    "Emp4 = {\"Name\": \"Maria\", \"Age\": 30, \"salary\":30000,\"Company\":\"TCS\"}\n",
    "Emp5 = {\"Name\": \"Regina\", \"Age\": 19, \"salary\":10000,\"Company\":\"Wipro\"}\n",
    "\n",
    "list_of_employees = [Emp1,Emp2,Emp3,Emp4,Emp5]\n",
    "Emp3[\"Company\"] = \"Accenture\"\n",
    "print(list_of_employees)"
   ]
  },
  {
   "cell_type": "code",
   "execution_count": 96,
   "id": "8f498836",
   "metadata": {},
   "outputs": [
    {
     "name": "stdout",
     "output_type": "stream",
     "text": [
      "{'Name': 'Johnny', 'Age': 32, 'salary': 34606.0, 'Company': 'TCS'}\n",
      "{'Name': 'Ron', 'Age': 28, 'salary': 26620.0, 'Company': 'Infosys'}\n",
      "{'Name': 'John', 'Age': 25, 'salary': 61226.0, 'Company': 'Accenture'}\n",
      "{'Name': 'Maria', 'Age': 30, 'salary': 39930.0, 'Company': 'TCS'}\n",
      "{'Name': 'Regina', 'Age': 19, 'salary': 13310.0, 'Company': 'Wipro'}\n"
     ]
    }
   ],
   "source": [
    "for x in list_of_employees:\n",
    "\tx[\"salary\"] = 1.1 * x[\"salary\"]\n",
    "\tx[\"salary\"] = round(x[\"salary\"],2)\n",
    "\tprint(x)"
   ]
  },
  {
   "cell_type": "code",
   "execution_count": null,
   "id": "38dc556d",
   "metadata": {},
   "outputs": [],
   "source": []
  }
 ],
 "metadata": {
  "kernelspec": {
   "display_name": "Python 3 (ipykernel)",
   "language": "python",
   "name": "python3"
  },
  "language_info": {
   "codemirror_mode": {
    "name": "ipython",
    "version": 3
   },
   "file_extension": ".py",
   "mimetype": "text/x-python",
   "name": "python",
   "nbconvert_exporter": "python",
   "pygments_lexer": "ipython3",
   "version": "3.11.4"
  }
 },
 "nbformat": 4,
 "nbformat_minor": 5
}
